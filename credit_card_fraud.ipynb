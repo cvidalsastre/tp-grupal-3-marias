{
  "nbformat": 4,
  "nbformat_minor": 0,
  "metadata": {
    "colab": {
      "provenance": [],
      "authorship_tag": "ABX9TyO92pl21WdGXeOKEBMztZx/",
      "include_colab_link": true
    },
    "kernelspec": {
      "name": "python3",
      "display_name": "Python 3"
    },
    "language_info": {
      "name": "python"
    }
  },
  "cells": [
    {
      "cell_type": "markdown",
      "metadata": {
        "id": "view-in-github",
        "colab_type": "text"
      },
      "source": [
        "<a href=\"https://colab.research.google.com/github/peronvidal/tp-grupal-3-marias/blob/master/credit_card_fraud.ipynb\" target=\"_parent\"><img src=\"https://colab.research.google.com/assets/colab-badge.svg\" alt=\"Open In Colab\"/></a>"
      ]
    },
    {
      "cell_type": "code",
      "execution_count": 2,
      "metadata": {
        "id": "Tlg9GeWT3c70"
      },
      "outputs": [],
      "source": []
    },
    {
      "cell_type": "code",
      "source": [
        "import pandas as pd\n",
        "import numpy as np\n",
        "import matplotlib.pyplot as plt\n",
        "from sklearn.linear_model import LinearRegression\n",
        "from sklearn.metrics import mean_squared_error\n",
        "linear_model = LinearRegression()\n",
        "from mpl_toolkits.mplot3d import Axes3D\n",
        "from matplotlib import cm\n",
        "import sys\n",
        "import seaborn as sns\n",
        "from sklearn.metrics import confusion_matrix\n",
        "from sklearn.model_selection import train_test_split\n",
        "from sklearn.tree import DecisionTreeClassifier\n",
        "from sklearn.model_selection import cross_val_score\n",
        "from sklearn.model_selection import GridSearchCV\n",
        "from sklearn.model_selection import RandomizedSearchCV\n",
        "# sns.set(rc={'figure.figsize':(15,5)})"
      ],
      "metadata": {
        "id": "Ajwe2A9p3e1K"
      },
      "execution_count": 16,
      "outputs": []
    },
    {
      "cell_type": "code",
      "source": [
        "!wget https://raw.githubusercontent.com/peronvidal/tp-grupal-3-marias/master/datasets/credit-card-fraud/card_transdata.csv"
      ],
      "metadata": {
        "colab": {
          "base_uri": "https://localhost:8080/"
        },
        "id": "16AsHIyQ3uPI",
        "outputId": "740c8022-f4f3-453a-8a96-f3b3cb71170f"
      },
      "execution_count": 4,
      "outputs": [
        {
          "output_type": "stream",
          "name": "stdout",
          "text": [
            "--2023-05-31 23:07:35--  https://raw.githubusercontent.com/peronvidal/tp-grupal-3-marias/master/datasets/credit-card-fraud/card_transdata.csv\n",
            "Resolving raw.githubusercontent.com (raw.githubusercontent.com)... 185.199.108.133, 185.199.109.133, 185.199.110.133, ...\n",
            "Connecting to raw.githubusercontent.com (raw.githubusercontent.com)|185.199.108.133|:443... connected.\n",
            "HTTP request sent, awaiting response... 200 OK\n",
            "Length: 76277977 (73M) [text/plain]\n",
            "Saving to: ‘card_transdata.csv.3’\n",
            "\n",
            "card_transdata.csv. 100%[===================>]  72.74M   174MB/s    in 0.4s    \n",
            "\n",
            "2023-05-31 23:07:35 (174 MB/s) - ‘card_transdata.csv.3’ saved [76277977/76277977]\n",
            "\n"
          ]
        }
      ]
    },
    {
      "cell_type": "code",
      "source": [
        "df = pd.read_csv('card_transdata.csv')\n",
        "# orig_df= pd.read_csv('card_transdata.csv')"
      ],
      "metadata": {
        "id": "NyliySJg33Fr"
      },
      "execution_count": 5,
      "outputs": []
    },
    {
      "cell_type": "code",
      "source": [
        "df.info()\n",
        "# parece que esta todo ok \n",
        "# Feature Explanation:\n",
        "# distance_from_home - the distance from home where the transaction happened. distancia desde el domicilio declarado en la tarjeta desde donde ocurrió la transacción\n",
        "# distance_from_last_transaction - the distance from last transaction happened. distancia desde donde se hizo la ultima transaccion con esa tarjeta\n",
        "# ratio_to_median_purchase_price - Ratio of purchased price transaction to median purchase price. te la debo\n",
        "# repeat_retailer - Is the transaction happened from same retailer. si la transaccion ocurrio desde el mismo vendedor o cobrador?\n",
        "# used_chip - Is the transaction through chip (credit card). si la transaccion se realizo mediante chip\n",
        "# used_pin_number - Is the transaction happened by using PIN number. si la transaccion se realizo ingresando un numero de PIN\n",
        "# online_order - Is the transaction an online order. si la transaccion fue una compra online\n",
        "# fraud - Is the transaction fraudulent. booleano, determina si esa transaccion fue fraudulenta o no"
      ],
      "metadata": {
        "colab": {
          "base_uri": "https://localhost:8080/"
        },
        "id": "Sy3LIcGQ3_fU",
        "outputId": "7958e09e-74e8-40a0-8afa-3f6f178bbe91"
      },
      "execution_count": 6,
      "outputs": [
        {
          "output_type": "stream",
          "name": "stdout",
          "text": [
            "<class 'pandas.core.frame.DataFrame'>\n",
            "RangeIndex: 1000000 entries, 0 to 999999\n",
            "Data columns (total 8 columns):\n",
            " #   Column                          Non-Null Count    Dtype  \n",
            "---  ------                          --------------    -----  \n",
            " 0   distance_from_home              1000000 non-null  float64\n",
            " 1   distance_from_last_transaction  1000000 non-null  float64\n",
            " 2   ratio_to_median_purchase_price  1000000 non-null  float64\n",
            " 3   repeat_retailer                 1000000 non-null  float64\n",
            " 4   used_chip                       1000000 non-null  float64\n",
            " 5   used_pin_number                 1000000 non-null  float64\n",
            " 6   online_order                    1000000 non-null  float64\n",
            " 7   fraud                           1000000 non-null  float64\n",
            "dtypes: float64(8)\n",
            "memory usage: 61.0 MB\n"
          ]
        }
      ]
    },
    {
      "cell_type": "code",
      "source": [
        "# Me muestra todos los posibles valores en cada columna\n",
        "for col in df:\n",
        "    print(df[col].name,df[col].unique())"
      ],
      "metadata": {
        "colab": {
          "base_uri": "https://localhost:8080/"
        },
        "id": "MAT8IYKa4GPj",
        "outputId": "1118e5e8-62de-4934-fffd-19a996124b49"
      },
      "execution_count": 7,
      "outputs": [
        {
          "output_type": "stream",
          "name": "stdout",
          "text": [
            "distance_from_home [57.87785658 10.8299427   5.09107949 ...  2.91485699  4.25872939\n",
            " 58.10812496]\n",
            "distance_from_last_transaction [0.31114001 0.1755915  0.80515259 ... 1.47268669 0.24202337 0.31811012]\n",
            "ratio_to_median_purchase_price [1.94593998 1.29421881 0.42771456 ... 0.21807549 0.47582206 0.38691985]\n",
            "repeat_retailer [1. 0.]\n",
            "used_chip [1. 0.]\n",
            "used_pin_number [0. 1.]\n",
            "online_order [0. 1.]\n",
            "fraud [0. 1.]\n"
          ]
        }
      ]
    },
    {
      "cell_type": "code",
      "source": [
        "sample = df.sample(10000,random_state=42)"
      ],
      "metadata": {
        "id": "bg6LVz-16v19"
      },
      "execution_count": 41,
      "outputs": []
    },
    {
      "cell_type": "code",
      "source": [
        "# sns.displot(data=df, x=\"fraud\",y=\"distance_from_home\")"
      ],
      "metadata": {
        "id": "QRmdi0zq9lbA"
      },
      "execution_count": 9,
      "outputs": []
    },
    {
      "cell_type": "code",
      "source": [
        "X_sample = sample.drop('fraud', axis=1)\n",
        "y_sample = sample['fraud']\n",
        "X = df.drop('fraud',axis=1)\n",
        "y = df['fraud'] \n",
        "### Por las dudas volvemos a hacer la separación\n",
        "X_train, X_test, y_train, y_test = train_test_split(X, y, \n",
        "                                                    test_size=250, \n",
        "                                                    random_state=2023)\n",
        "X_sample_train, X_sample_test, y_sample_train, y_sample_test = train_test_split(X, y, \n",
        "                                                    test_size=250, \n",
        "                                                    random_state=2023)"
      ],
      "metadata": {
        "id": "BtxJ997e-N2Q"
      },
      "execution_count": 42,
      "outputs": []
    },
    {
      "cell_type": "code",
      "source": [
        "\n",
        "# Grilla para Grid Search\n",
        "max_depth_list = [1,3,5,7,9,11]\n",
        "min_samples_split_list = [10,20,30,40,50,60]\n",
        "min_samples_leaf_list = [10,20,30,40,50,60]\n",
        "max_features_list = [1,2,3,4,5]\n",
        "\n",
        "arbol = DecisionTreeClassifier()\n",
        " \n",
        "param_grid = {\n",
        "'max_depth': max_depth_list,\n",
        "'min_samples_split': min_samples_split_list,\n",
        "'min_samples_leaf': min_samples_leaf_list,\n",
        "'max_features': max_features_list\n",
        "}\n",
        "\n",
        "clf = GridSearchCV(estimator=arbol,param_grid=param_grid,scoring='accuracy')\n",
        "clf.fit(X_sample_train,y_sample_train)"
      ],
      "metadata": {
        "colab": {
          "base_uri": "https://localhost:8080/",
          "height": 118
        },
        "id": "H0qOpJQoCxRm",
        "outputId": "f5c489cb-ffbe-42c7-8e15-08a180dc4cab"
      },
      "execution_count": 43,
      "outputs": [
        {
          "output_type": "execute_result",
          "data": {
            "text/plain": [
              "GridSearchCV(estimator=DecisionTreeClassifier(),\n",
              "             param_grid={'max_depth': [1, 3, 5, 7, 9, 11],\n",
              "                         'max_features': [1, 2, 3, 4, 5],\n",
              "                         'min_samples_leaf': [10, 20, 30, 40, 50, 60],\n",
              "                         'min_samples_split': [10, 20, 30, 40, 50, 60]},\n",
              "             scoring='accuracy')"
            ],
            "text/html": [
              "<style>#sk-container-id-2 {color: black;background-color: white;}#sk-container-id-2 pre{padding: 0;}#sk-container-id-2 div.sk-toggleable {background-color: white;}#sk-container-id-2 label.sk-toggleable__label {cursor: pointer;display: block;width: 100%;margin-bottom: 0;padding: 0.3em;box-sizing: border-box;text-align: center;}#sk-container-id-2 label.sk-toggleable__label-arrow:before {content: \"▸\";float: left;margin-right: 0.25em;color: #696969;}#sk-container-id-2 label.sk-toggleable__label-arrow:hover:before {color: black;}#sk-container-id-2 div.sk-estimator:hover label.sk-toggleable__label-arrow:before {color: black;}#sk-container-id-2 div.sk-toggleable__content {max-height: 0;max-width: 0;overflow: hidden;text-align: left;background-color: #f0f8ff;}#sk-container-id-2 div.sk-toggleable__content pre {margin: 0.2em;color: black;border-radius: 0.25em;background-color: #f0f8ff;}#sk-container-id-2 input.sk-toggleable__control:checked~div.sk-toggleable__content {max-height: 200px;max-width: 100%;overflow: auto;}#sk-container-id-2 input.sk-toggleable__control:checked~label.sk-toggleable__label-arrow:before {content: \"▾\";}#sk-container-id-2 div.sk-estimator input.sk-toggleable__control:checked~label.sk-toggleable__label {background-color: #d4ebff;}#sk-container-id-2 div.sk-label input.sk-toggleable__control:checked~label.sk-toggleable__label {background-color: #d4ebff;}#sk-container-id-2 input.sk-hidden--visually {border: 0;clip: rect(1px 1px 1px 1px);clip: rect(1px, 1px, 1px, 1px);height: 1px;margin: -1px;overflow: hidden;padding: 0;position: absolute;width: 1px;}#sk-container-id-2 div.sk-estimator {font-family: monospace;background-color: #f0f8ff;border: 1px dotted black;border-radius: 0.25em;box-sizing: border-box;margin-bottom: 0.5em;}#sk-container-id-2 div.sk-estimator:hover {background-color: #d4ebff;}#sk-container-id-2 div.sk-parallel-item::after {content: \"\";width: 100%;border-bottom: 1px solid gray;flex-grow: 1;}#sk-container-id-2 div.sk-label:hover label.sk-toggleable__label {background-color: #d4ebff;}#sk-container-id-2 div.sk-serial::before {content: \"\";position: absolute;border-left: 1px solid gray;box-sizing: border-box;top: 0;bottom: 0;left: 50%;z-index: 0;}#sk-container-id-2 div.sk-serial {display: flex;flex-direction: column;align-items: center;background-color: white;padding-right: 0.2em;padding-left: 0.2em;position: relative;}#sk-container-id-2 div.sk-item {position: relative;z-index: 1;}#sk-container-id-2 div.sk-parallel {display: flex;align-items: stretch;justify-content: center;background-color: white;position: relative;}#sk-container-id-2 div.sk-item::before, #sk-container-id-2 div.sk-parallel-item::before {content: \"\";position: absolute;border-left: 1px solid gray;box-sizing: border-box;top: 0;bottom: 0;left: 50%;z-index: -1;}#sk-container-id-2 div.sk-parallel-item {display: flex;flex-direction: column;z-index: 1;position: relative;background-color: white;}#sk-container-id-2 div.sk-parallel-item:first-child::after {align-self: flex-end;width: 50%;}#sk-container-id-2 div.sk-parallel-item:last-child::after {align-self: flex-start;width: 50%;}#sk-container-id-2 div.sk-parallel-item:only-child::after {width: 0;}#sk-container-id-2 div.sk-dashed-wrapped {border: 1px dashed gray;margin: 0 0.4em 0.5em 0.4em;box-sizing: border-box;padding-bottom: 0.4em;background-color: white;}#sk-container-id-2 div.sk-label label {font-family: monospace;font-weight: bold;display: inline-block;line-height: 1.2em;}#sk-container-id-2 div.sk-label-container {text-align: center;}#sk-container-id-2 div.sk-container {/* jupyter's `normalize.less` sets `[hidden] { display: none; }` but bootstrap.min.css set `[hidden] { display: none !important; }` so we also need the `!important` here to be able to override the default hidden behavior on the sphinx rendered scikit-learn.org. See: https://github.com/scikit-learn/scikit-learn/issues/21755 */display: inline-block !important;position: relative;}#sk-container-id-2 div.sk-text-repr-fallback {display: none;}</style><div id=\"sk-container-id-2\" class=\"sk-top-container\"><div class=\"sk-text-repr-fallback\"><pre>GridSearchCV(estimator=DecisionTreeClassifier(),\n",
              "             param_grid={&#x27;max_depth&#x27;: [1, 3, 5, 7, 9, 11],\n",
              "                         &#x27;max_features&#x27;: [1, 2, 3, 4, 5],\n",
              "                         &#x27;min_samples_leaf&#x27;: [10, 20, 30, 40, 50, 60],\n",
              "                         &#x27;min_samples_split&#x27;: [10, 20, 30, 40, 50, 60]},\n",
              "             scoring=&#x27;accuracy&#x27;)</pre><b>In a Jupyter environment, please rerun this cell to show the HTML representation or trust the notebook. <br />On GitHub, the HTML representation is unable to render, please try loading this page with nbviewer.org.</b></div><div class=\"sk-container\" hidden><div class=\"sk-item sk-dashed-wrapped\"><div class=\"sk-label-container\"><div class=\"sk-label sk-toggleable\"><input class=\"sk-toggleable__control sk-hidden--visually\" id=\"sk-estimator-id-4\" type=\"checkbox\" ><label for=\"sk-estimator-id-4\" class=\"sk-toggleable__label sk-toggleable__label-arrow\">GridSearchCV</label><div class=\"sk-toggleable__content\"><pre>GridSearchCV(estimator=DecisionTreeClassifier(),\n",
              "             param_grid={&#x27;max_depth&#x27;: [1, 3, 5, 7, 9, 11],\n",
              "                         &#x27;max_features&#x27;: [1, 2, 3, 4, 5],\n",
              "                         &#x27;min_samples_leaf&#x27;: [10, 20, 30, 40, 50, 60],\n",
              "                         &#x27;min_samples_split&#x27;: [10, 20, 30, 40, 50, 60]},\n",
              "             scoring=&#x27;accuracy&#x27;)</pre></div></div></div><div class=\"sk-parallel\"><div class=\"sk-parallel-item\"><div class=\"sk-item\"><div class=\"sk-label-container\"><div class=\"sk-label sk-toggleable\"><input class=\"sk-toggleable__control sk-hidden--visually\" id=\"sk-estimator-id-5\" type=\"checkbox\" ><label for=\"sk-estimator-id-5\" class=\"sk-toggleable__label sk-toggleable__label-arrow\">estimator: DecisionTreeClassifier</label><div class=\"sk-toggleable__content\"><pre>DecisionTreeClassifier()</pre></div></div></div><div class=\"sk-serial\"><div class=\"sk-item\"><div class=\"sk-estimator sk-toggleable\"><input class=\"sk-toggleable__control sk-hidden--visually\" id=\"sk-estimator-id-6\" type=\"checkbox\" ><label for=\"sk-estimator-id-6\" class=\"sk-toggleable__label sk-toggleable__label-arrow\">DecisionTreeClassifier</label><div class=\"sk-toggleable__content\"><pre>DecisionTreeClassifier()</pre></div></div></div></div></div></div></div></div></div></div>"
            ]
          },
          "metadata": {},
          "execution_count": 43
        }
      ]
    },
    {
      "cell_type": "code",
      "source": [
        "print(\"Mejores parametros: \"+str(clf.best_params_))\n",
        "print(\"Mejor Score: \"+ str(clf.best_score_)+'\\n')\n",
        "\n",
        "scores = pd.DataFrame(clf.cv_results_)\n",
        "scores"
      ],
      "metadata": {
        "colab": {
          "base_uri": "https://localhost:8080/",
          "height": 1000
        },
        "id": "WQqq84hJELxs",
        "outputId": "e354a384-61c2-4c99-89dc-798890448ae3"
      },
      "execution_count": 44,
      "outputs": [
        {
          "output_type": "stream",
          "name": "stdout",
          "text": [
            "Mejores parametros: {'max_depth': 11, 'max_features': 5, 'min_samples_leaf': 10, 'min_samples_split': 50}\n",
            "Mejor Score: 0.9999719929982496\n",
            "\n"
          ]
        },
        {
          "output_type": "execute_result",
          "data": {
            "text/plain": [
              "      mean_fit_time  std_fit_time  mean_score_time  std_score_time  \\\n",
              "0          0.503747      0.451682         0.059496        0.023845   \n",
              "1          0.405941      0.264054         0.045425        0.041843   \n",
              "2          0.183419      0.073538         0.022128        0.001520   \n",
              "3          0.092212      0.002485         0.022490        0.002077   \n",
              "4          0.123505      0.065003         0.020778        0.000335   \n",
              "...             ...           ...              ...             ...   \n",
              "1075       1.557349      0.226713         0.028112        0.005936   \n",
              "1076       1.642061      0.336456         0.025004        0.003290   \n",
              "1077       1.617557      0.141907         0.029912        0.007972   \n",
              "1078       1.538020      0.341227         0.027410        0.006332   \n",
              "1079       1.620525      0.233239         0.024509        0.001461   \n",
              "\n",
              "     param_max_depth param_max_features param_min_samples_leaf  \\\n",
              "0                  1                  1                     10   \n",
              "1                  1                  1                     10   \n",
              "2                  1                  1                     10   \n",
              "3                  1                  1                     10   \n",
              "4                  1                  1                     10   \n",
              "...              ...                ...                    ...   \n",
              "1075              11                  5                     60   \n",
              "1076              11                  5                     60   \n",
              "1077              11                  5                     60   \n",
              "1078              11                  5                     60   \n",
              "1079              11                  5                     60   \n",
              "\n",
              "     param_min_samples_split  \\\n",
              "0                         10   \n",
              "1                         20   \n",
              "2                         30   \n",
              "3                         40   \n",
              "4                         50   \n",
              "...                      ...   \n",
              "1075                      20   \n",
              "1076                      30   \n",
              "1077                      40   \n",
              "1078                      50   \n",
              "1079                      60   \n",
              "\n",
              "                                                 params  split0_test_score  \\\n",
              "0     {'max_depth': 1, 'max_features': 1, 'min_sampl...           0.912593   \n",
              "1     {'max_depth': 1, 'max_features': 1, 'min_sampl...           0.912593   \n",
              "2     {'max_depth': 1, 'max_features': 1, 'min_sampl...           0.912593   \n",
              "3     {'max_depth': 1, 'max_features': 1, 'min_sampl...           0.912593   \n",
              "4     {'max_depth': 1, 'max_features': 1, 'min_sampl...           0.912593   \n",
              "...                                                 ...                ...   \n",
              "1075  {'max_depth': 11, 'max_features': 5, 'min_samp...           0.999690   \n",
              "1076  {'max_depth': 11, 'max_features': 5, 'min_samp...           0.999750   \n",
              "1077  {'max_depth': 11, 'max_features': 5, 'min_samp...           0.999720   \n",
              "1078  {'max_depth': 11, 'max_features': 5, 'min_samp...           0.999770   \n",
              "1079  {'max_depth': 11, 'max_features': 5, 'min_samp...           0.999760   \n",
              "\n",
              "      split1_test_score  split2_test_score  split3_test_score  \\\n",
              "0              0.912593           0.912593           0.912593   \n",
              "1              0.912593           0.912593           0.912593   \n",
              "2              0.912593           0.939950           0.938575   \n",
              "3              0.912593           0.912593           0.912593   \n",
              "4              0.912593           0.912593           0.912593   \n",
              "...                 ...                ...                ...   \n",
              "1075           0.999825           0.999775           0.999845   \n",
              "1076           0.999805           0.999780           0.999830   \n",
              "1077           0.999815           0.999825           0.999660   \n",
              "1078           0.999850           0.999620           0.999715   \n",
              "1079           0.999745           0.999825           0.999850   \n",
              "\n",
              "      split4_test_score  mean_test_score  std_test_score  rank_test_score  \n",
              "0              0.912593         0.912593        0.000000             1054  \n",
              "1              0.912593         0.912593        0.000000             1054  \n",
              "2              0.912593         0.923261        0.013072              978  \n",
              "3              0.912593         0.912593        0.000000             1054  \n",
              "4              0.912593         0.912593        0.000000             1054  \n",
              "...                 ...              ...             ...              ...  \n",
              "1075           0.999845         0.999796        0.000059               94  \n",
              "1076           0.999855         0.999804        0.000037               82  \n",
              "1077           0.999790         0.999762        0.000063              109  \n",
              "1078           0.999805         0.999752        0.000079              115  \n",
              "1079           0.999830         0.999802        0.000042               84  \n",
              "\n",
              "[1080 rows x 17 columns]"
            ],
            "text/html": [
              "\n",
              "  <div id=\"df-5d5487b2-e855-4470-be6d-4ab9da8c0633\">\n",
              "    <div class=\"colab-df-container\">\n",
              "      <div>\n",
              "<style scoped>\n",
              "    .dataframe tbody tr th:only-of-type {\n",
              "        vertical-align: middle;\n",
              "    }\n",
              "\n",
              "    .dataframe tbody tr th {\n",
              "        vertical-align: top;\n",
              "    }\n",
              "\n",
              "    .dataframe thead th {\n",
              "        text-align: right;\n",
              "    }\n",
              "</style>\n",
              "<table border=\"1\" class=\"dataframe\">\n",
              "  <thead>\n",
              "    <tr style=\"text-align: right;\">\n",
              "      <th></th>\n",
              "      <th>mean_fit_time</th>\n",
              "      <th>std_fit_time</th>\n",
              "      <th>mean_score_time</th>\n",
              "      <th>std_score_time</th>\n",
              "      <th>param_max_depth</th>\n",
              "      <th>param_max_features</th>\n",
              "      <th>param_min_samples_leaf</th>\n",
              "      <th>param_min_samples_split</th>\n",
              "      <th>params</th>\n",
              "      <th>split0_test_score</th>\n",
              "      <th>split1_test_score</th>\n",
              "      <th>split2_test_score</th>\n",
              "      <th>split3_test_score</th>\n",
              "      <th>split4_test_score</th>\n",
              "      <th>mean_test_score</th>\n",
              "      <th>std_test_score</th>\n",
              "      <th>rank_test_score</th>\n",
              "    </tr>\n",
              "  </thead>\n",
              "  <tbody>\n",
              "    <tr>\n",
              "      <th>0</th>\n",
              "      <td>0.503747</td>\n",
              "      <td>0.451682</td>\n",
              "      <td>0.059496</td>\n",
              "      <td>0.023845</td>\n",
              "      <td>1</td>\n",
              "      <td>1</td>\n",
              "      <td>10</td>\n",
              "      <td>10</td>\n",
              "      <td>{'max_depth': 1, 'max_features': 1, 'min_sampl...</td>\n",
              "      <td>0.912593</td>\n",
              "      <td>0.912593</td>\n",
              "      <td>0.912593</td>\n",
              "      <td>0.912593</td>\n",
              "      <td>0.912593</td>\n",
              "      <td>0.912593</td>\n",
              "      <td>0.000000</td>\n",
              "      <td>1054</td>\n",
              "    </tr>\n",
              "    <tr>\n",
              "      <th>1</th>\n",
              "      <td>0.405941</td>\n",
              "      <td>0.264054</td>\n",
              "      <td>0.045425</td>\n",
              "      <td>0.041843</td>\n",
              "      <td>1</td>\n",
              "      <td>1</td>\n",
              "      <td>10</td>\n",
              "      <td>20</td>\n",
              "      <td>{'max_depth': 1, 'max_features': 1, 'min_sampl...</td>\n",
              "      <td>0.912593</td>\n",
              "      <td>0.912593</td>\n",
              "      <td>0.912593</td>\n",
              "      <td>0.912593</td>\n",
              "      <td>0.912593</td>\n",
              "      <td>0.912593</td>\n",
              "      <td>0.000000</td>\n",
              "      <td>1054</td>\n",
              "    </tr>\n",
              "    <tr>\n",
              "      <th>2</th>\n",
              "      <td>0.183419</td>\n",
              "      <td>0.073538</td>\n",
              "      <td>0.022128</td>\n",
              "      <td>0.001520</td>\n",
              "      <td>1</td>\n",
              "      <td>1</td>\n",
              "      <td>10</td>\n",
              "      <td>30</td>\n",
              "      <td>{'max_depth': 1, 'max_features': 1, 'min_sampl...</td>\n",
              "      <td>0.912593</td>\n",
              "      <td>0.912593</td>\n",
              "      <td>0.939950</td>\n",
              "      <td>0.938575</td>\n",
              "      <td>0.912593</td>\n",
              "      <td>0.923261</td>\n",
              "      <td>0.013072</td>\n",
              "      <td>978</td>\n",
              "    </tr>\n",
              "    <tr>\n",
              "      <th>3</th>\n",
              "      <td>0.092212</td>\n",
              "      <td>0.002485</td>\n",
              "      <td>0.022490</td>\n",
              "      <td>0.002077</td>\n",
              "      <td>1</td>\n",
              "      <td>1</td>\n",
              "      <td>10</td>\n",
              "      <td>40</td>\n",
              "      <td>{'max_depth': 1, 'max_features': 1, 'min_sampl...</td>\n",
              "      <td>0.912593</td>\n",
              "      <td>0.912593</td>\n",
              "      <td>0.912593</td>\n",
              "      <td>0.912593</td>\n",
              "      <td>0.912593</td>\n",
              "      <td>0.912593</td>\n",
              "      <td>0.000000</td>\n",
              "      <td>1054</td>\n",
              "    </tr>\n",
              "    <tr>\n",
              "      <th>4</th>\n",
              "      <td>0.123505</td>\n",
              "      <td>0.065003</td>\n",
              "      <td>0.020778</td>\n",
              "      <td>0.000335</td>\n",
              "      <td>1</td>\n",
              "      <td>1</td>\n",
              "      <td>10</td>\n",
              "      <td>50</td>\n",
              "      <td>{'max_depth': 1, 'max_features': 1, 'min_sampl...</td>\n",
              "      <td>0.912593</td>\n",
              "      <td>0.912593</td>\n",
              "      <td>0.912593</td>\n",
              "      <td>0.912593</td>\n",
              "      <td>0.912593</td>\n",
              "      <td>0.912593</td>\n",
              "      <td>0.000000</td>\n",
              "      <td>1054</td>\n",
              "    </tr>\n",
              "    <tr>\n",
              "      <th>...</th>\n",
              "      <td>...</td>\n",
              "      <td>...</td>\n",
              "      <td>...</td>\n",
              "      <td>...</td>\n",
              "      <td>...</td>\n",
              "      <td>...</td>\n",
              "      <td>...</td>\n",
              "      <td>...</td>\n",
              "      <td>...</td>\n",
              "      <td>...</td>\n",
              "      <td>...</td>\n",
              "      <td>...</td>\n",
              "      <td>...</td>\n",
              "      <td>...</td>\n",
              "      <td>...</td>\n",
              "      <td>...</td>\n",
              "      <td>...</td>\n",
              "    </tr>\n",
              "    <tr>\n",
              "      <th>1075</th>\n",
              "      <td>1.557349</td>\n",
              "      <td>0.226713</td>\n",
              "      <td>0.028112</td>\n",
              "      <td>0.005936</td>\n",
              "      <td>11</td>\n",
              "      <td>5</td>\n",
              "      <td>60</td>\n",
              "      <td>20</td>\n",
              "      <td>{'max_depth': 11, 'max_features': 5, 'min_samp...</td>\n",
              "      <td>0.999690</td>\n",
              "      <td>0.999825</td>\n",
              "      <td>0.999775</td>\n",
              "      <td>0.999845</td>\n",
              "      <td>0.999845</td>\n",
              "      <td>0.999796</td>\n",
              "      <td>0.000059</td>\n",
              "      <td>94</td>\n",
              "    </tr>\n",
              "    <tr>\n",
              "      <th>1076</th>\n",
              "      <td>1.642061</td>\n",
              "      <td>0.336456</td>\n",
              "      <td>0.025004</td>\n",
              "      <td>0.003290</td>\n",
              "      <td>11</td>\n",
              "      <td>5</td>\n",
              "      <td>60</td>\n",
              "      <td>30</td>\n",
              "      <td>{'max_depth': 11, 'max_features': 5, 'min_samp...</td>\n",
              "      <td>0.999750</td>\n",
              "      <td>0.999805</td>\n",
              "      <td>0.999780</td>\n",
              "      <td>0.999830</td>\n",
              "      <td>0.999855</td>\n",
              "      <td>0.999804</td>\n",
              "      <td>0.000037</td>\n",
              "      <td>82</td>\n",
              "    </tr>\n",
              "    <tr>\n",
              "      <th>1077</th>\n",
              "      <td>1.617557</td>\n",
              "      <td>0.141907</td>\n",
              "      <td>0.029912</td>\n",
              "      <td>0.007972</td>\n",
              "      <td>11</td>\n",
              "      <td>5</td>\n",
              "      <td>60</td>\n",
              "      <td>40</td>\n",
              "      <td>{'max_depth': 11, 'max_features': 5, 'min_samp...</td>\n",
              "      <td>0.999720</td>\n",
              "      <td>0.999815</td>\n",
              "      <td>0.999825</td>\n",
              "      <td>0.999660</td>\n",
              "      <td>0.999790</td>\n",
              "      <td>0.999762</td>\n",
              "      <td>0.000063</td>\n",
              "      <td>109</td>\n",
              "    </tr>\n",
              "    <tr>\n",
              "      <th>1078</th>\n",
              "      <td>1.538020</td>\n",
              "      <td>0.341227</td>\n",
              "      <td>0.027410</td>\n",
              "      <td>0.006332</td>\n",
              "      <td>11</td>\n",
              "      <td>5</td>\n",
              "      <td>60</td>\n",
              "      <td>50</td>\n",
              "      <td>{'max_depth': 11, 'max_features': 5, 'min_samp...</td>\n",
              "      <td>0.999770</td>\n",
              "      <td>0.999850</td>\n",
              "      <td>0.999620</td>\n",
              "      <td>0.999715</td>\n",
              "      <td>0.999805</td>\n",
              "      <td>0.999752</td>\n",
              "      <td>0.000079</td>\n",
              "      <td>115</td>\n",
              "    </tr>\n",
              "    <tr>\n",
              "      <th>1079</th>\n",
              "      <td>1.620525</td>\n",
              "      <td>0.233239</td>\n",
              "      <td>0.024509</td>\n",
              "      <td>0.001461</td>\n",
              "      <td>11</td>\n",
              "      <td>5</td>\n",
              "      <td>60</td>\n",
              "      <td>60</td>\n",
              "      <td>{'max_depth': 11, 'max_features': 5, 'min_samp...</td>\n",
              "      <td>0.999760</td>\n",
              "      <td>0.999745</td>\n",
              "      <td>0.999825</td>\n",
              "      <td>0.999850</td>\n",
              "      <td>0.999830</td>\n",
              "      <td>0.999802</td>\n",
              "      <td>0.000042</td>\n",
              "      <td>84</td>\n",
              "    </tr>\n",
              "  </tbody>\n",
              "</table>\n",
              "<p>1080 rows × 17 columns</p>\n",
              "</div>\n",
              "      <button class=\"colab-df-convert\" onclick=\"convertToInteractive('df-5d5487b2-e855-4470-be6d-4ab9da8c0633')\"\n",
              "              title=\"Convert this dataframe to an interactive table.\"\n",
              "              style=\"display:none;\">\n",
              "        \n",
              "  <svg xmlns=\"http://www.w3.org/2000/svg\" height=\"24px\"viewBox=\"0 0 24 24\"\n",
              "       width=\"24px\">\n",
              "    <path d=\"M0 0h24v24H0V0z\" fill=\"none\"/>\n",
              "    <path d=\"M18.56 5.44l.94 2.06.94-2.06 2.06-.94-2.06-.94-.94-2.06-.94 2.06-2.06.94zm-11 1L8.5 8.5l.94-2.06 2.06-.94-2.06-.94L8.5 2.5l-.94 2.06-2.06.94zm10 10l.94 2.06.94-2.06 2.06-.94-2.06-.94-.94-2.06-.94 2.06-2.06.94z\"/><path d=\"M17.41 7.96l-1.37-1.37c-.4-.4-.92-.59-1.43-.59-.52 0-1.04.2-1.43.59L10.3 9.45l-7.72 7.72c-.78.78-.78 2.05 0 2.83L4 21.41c.39.39.9.59 1.41.59.51 0 1.02-.2 1.41-.59l7.78-7.78 2.81-2.81c.8-.78.8-2.07 0-2.86zM5.41 20L4 18.59l7.72-7.72 1.47 1.35L5.41 20z\"/>\n",
              "  </svg>\n",
              "      </button>\n",
              "      \n",
              "  <style>\n",
              "    .colab-df-container {\n",
              "      display:flex;\n",
              "      flex-wrap:wrap;\n",
              "      gap: 12px;\n",
              "    }\n",
              "\n",
              "    .colab-df-convert {\n",
              "      background-color: #E8F0FE;\n",
              "      border: none;\n",
              "      border-radius: 50%;\n",
              "      cursor: pointer;\n",
              "      display: none;\n",
              "      fill: #1967D2;\n",
              "      height: 32px;\n",
              "      padding: 0 0 0 0;\n",
              "      width: 32px;\n",
              "    }\n",
              "\n",
              "    .colab-df-convert:hover {\n",
              "      background-color: #E2EBFA;\n",
              "      box-shadow: 0px 1px 2px rgba(60, 64, 67, 0.3), 0px 1px 3px 1px rgba(60, 64, 67, 0.15);\n",
              "      fill: #174EA6;\n",
              "    }\n",
              "\n",
              "    [theme=dark] .colab-df-convert {\n",
              "      background-color: #3B4455;\n",
              "      fill: #D2E3FC;\n",
              "    }\n",
              "\n",
              "    [theme=dark] .colab-df-convert:hover {\n",
              "      background-color: #434B5C;\n",
              "      box-shadow: 0px 1px 3px 1px rgba(0, 0, 0, 0.15);\n",
              "      filter: drop-shadow(0px 1px 2px rgba(0, 0, 0, 0.3));\n",
              "      fill: #FFFFFF;\n",
              "    }\n",
              "  </style>\n",
              "\n",
              "      <script>\n",
              "        const buttonEl =\n",
              "          document.querySelector('#df-5d5487b2-e855-4470-be6d-4ab9da8c0633 button.colab-df-convert');\n",
              "        buttonEl.style.display =\n",
              "          google.colab.kernel.accessAllowed ? 'block' : 'none';\n",
              "\n",
              "        async function convertToInteractive(key) {\n",
              "          const element = document.querySelector('#df-5d5487b2-e855-4470-be6d-4ab9da8c0633');\n",
              "          const dataTable =\n",
              "            await google.colab.kernel.invokeFunction('convertToInteractive',\n",
              "                                                     [key], {});\n",
              "          if (!dataTable) return;\n",
              "\n",
              "          const docLinkHtml = 'Like what you see? Visit the ' +\n",
              "            '<a target=\"_blank\" href=https://colab.research.google.com/notebooks/data_table.ipynb>data table notebook</a>'\n",
              "            + ' to learn more about interactive tables.';\n",
              "          element.innerHTML = '';\n",
              "          dataTable['output_type'] = 'display_data';\n",
              "          await google.colab.output.renderOutput(dataTable, element);\n",
              "          const docLink = document.createElement('div');\n",
              "          docLink.innerHTML = docLinkHtml;\n",
              "          element.appendChild(docLink);\n",
              "        }\n",
              "      </script>\n",
              "    </div>\n",
              "  </div>\n",
              "  "
            ]
          },
          "metadata": {},
          "execution_count": 44
        }
      ]
    },
    {
      "cell_type": "code",
      "source": [
        "\n",
        "sns.set(rc={'figure.figsize':(20,5)})\n",
        "importances = clf.best_estimator_.feature_importances_\n",
        "columns = X.columns\n",
        "#print()\n",
        "sns.barplot(x=columns, y=importances)\n",
        "plt.title('Importancia de cada Feature Para determinar si hubo fraude o no')\n",
        "plt.show()"
      ],
      "metadata": {
        "colab": {
          "base_uri": "https://localhost:8080/",
          "height": 473
        },
        "id": "OME-fDPZG267",
        "outputId": "924bc2cd-d4e0-4743-a27c-366d4159af6f"
      },
      "execution_count": 25,
      "outputs": [
        {
          "output_type": "display_data",
          "data": {
            "text/plain": [
              "<Figure size 2000x500 with 1 Axes>"
            ],
            "image/png": "[encoded data removed]"
          },
          "metadata": {}
        }
      ]
    },
    {
      "cell_type": "code",
      "source": [
        "# Mejores hiperparametros obtenidos del cros validation utilizando un sample de 1000 instancias\n",
        "# 'max_depth': 7, 'max_features': 1, 'min_samples_leaf': 10, 'min_samples_split': 40}\n",
        "# Mejores hiperparametros obtenidos del cros validation utilizando un sample de 10000 instancias\n",
        "# Mejores parametros: {'max_depth': 11, 'max_features': 5, 'min_samples_leaf': 10, 'min_samples_split': 50}\n",
        "clf2 = DecisionTreeClassifier(max_depth=7,max_features=1,min_samples_leaf=10,min_samples_split=40)\n",
        "clf2.fit(X_train,y_train)\n",
        "clf2.score(X_test,y_test)"
      ],
      "metadata": {
        "colab": {
          "base_uri": "https://localhost:8080/"
        },
        "id": "RApK6l4dVJqD",
        "outputId": "fd9a118d-a4fe-40e9-f4bf-a3d8d966f3c3"
      },
      "execution_count": 49,
      "outputs": [
        {
          "output_type": "execute_result",
          "data": {
            "text/plain": [
              "0.924"
            ]
          },
          "metadata": {},
          "execution_count": 49
        }
      ]
    },
    {
      "cell_type": "code",
      "source": [
        "sns.set(rc={'figure.figsize':(5,5)})\n",
        "y_pred_arbol = clf2.predict(X_test)\n",
        "cf_matrix = confusion_matrix(y_test, y_pred_arbol)\n",
        "group_names = ['True Neg','False Pos','False Neg','True Pos']\n",
        "group_counts = ['{0:0.0f}'.format(value) for value in\n",
        "                cf_matrix.flatten()]\n",
        "group_percentages = ['{0:.2%}'.format(value) for value in\n",
        "                     cf_matrix.flatten()/np.sum(cf_matrix)]\n",
        "labels = [f'{v1}\\n{v2}\\n{v3}' for v1, v2, v3 in\n",
        "          zip(group_names,group_counts,group_percentages)]\n",
        "labels = np.asarray(labels).reshape(2,2)\n",
        "sns.heatmap(cf_matrix, annot=labels, fmt='', cmap='Blues')"
      ],
      "metadata": {
        "colab": {
          "base_uri": "https://localhost:8080/",
          "height": 470
        },
        "id": "k98eE66JWecW",
        "outputId": "666d47f7-2e39-471e-f945-d6f93a9f074e"
      },
      "execution_count": 50,
      "outputs": [
        {
          "output_type": "execute_result",
          "data": {
            "text/plain": [
              "<Axes: >"
            ]
          },
          "metadata": {},
          "execution_count": 50
        },
        {
          "output_type": "display_data",
          "data": {
            "text/plain": [
              "<Figure size 500x500 with 2 Axes>"
            ],
            "image/png": "[encoded data removed]"
          },
          "metadata": {}
        }
      ]
    },
    {
      "cell_type": "code",
      "source": [],
      "metadata": {
        "id": "wavU1Y4c4BWg"
      },
      "execution_count": null,
      "outputs": []
    }
  ]
}